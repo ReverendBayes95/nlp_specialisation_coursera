{
 "cells": [
  {
   "cell_type": "code",
   "execution_count": null,
   "id": "c8c64b1d",
   "metadata": {},
   "outputs": [],
   "source": [
    "import pandas as pd\n",
    "import re"
   ]
  },
  {
   "cell_type": "code",
   "execution_count": null,
   "id": "1bb2de7a",
   "metadata": {},
   "outputs": [],
   "source": [
    "def get_train_test_data(data_dir):\n",
    "    # Get the train data\n",
    "    train_data = pd.read_json(f\"{data_dir}/train.json\")\n",
    "    train_data.drop(['id'], axis=1, inplace=True)\n",
    "\n",
    "    # Get the test data\n",
    "    test_data = pd.read_json(f\"{data_dir}/test.json\")\n",
    "    test_data.drop(['id'], axis=1, inplace=True)\n",
    "    \n",
    "    return train_data, test_data"
   ]
  },
  {
   "cell_type": "code",
   "execution_count": null,
   "id": "5e01ad50",
   "metadata": {},
   "outputs": [],
   "source": [
    "def preprocess(input_data):\n",
    "    # Define the custom preprocessing function\n",
    "    def preprocess_util(input_data):\n",
    "        # Convert all text to lowercase\n",
    "        lowercase = input_data.lower()\n",
    "        # Remove newlines and double spaces\n",
    "        removed_newlines = re.sub(\"\\n|\\r|\\t\", \" \",  lowercase)\n",
    "        removed_double_spaces = ' '.join(removed_newlines.split(' '))\n",
    "        # Add start of sentence and end of sentence tokens\n",
    "        s = '[SOS] ' + removed_double_spaces + ' [EOS]'\n",
    "        return s\n",
    "    \n",
    "    # Apply the preprocessing to the train and test datasets\n",
    "    input_data['summary'] = input_data.apply(lambda row : preprocess_util(row['summary']), axis = 1)\n",
    "    input_data['dialogue'] = input_data.apply(lambda row : preprocess_util(row['dialogue']), axis = 1)\n",
    "\n",
    "    document = input_data['dialogue']\n",
    "    summary = input_data['summary']\n",
    "    \n",
    "    return document, summary"
   ]
  }
 ],
 "metadata": {
  "jupytext": {
   "cell_metadata_filter": "-all",
   "notebook_metadata_filter": "-all",
   "text_representation": {
    "extension": ".py",
    "format_name": "light"
   }
  },
  "kernelspec": {
   "display_name": "Python 3 (ipykernel)",
   "language": "python",
   "name": "python3"
  }
 },
 "nbformat": 4,
 "nbformat_minor": 5
}
